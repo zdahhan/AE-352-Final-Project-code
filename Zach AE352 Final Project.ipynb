{
 "cells": [
  {
   "cell_type": "code",
   "execution_count": 31,
   "id": "00303801-05a4-4f79-a711-c2293ee44213",
   "metadata": {},
   "outputs": [
    {
     "data": {
      "text/plain": [
       "{omega_1: 0.0397887357729738, omega_2: 0.0, omega_3: 0.0}"
      ]
     },
     "execution_count": 31,
     "metadata": {},
     "output_type": "execute_result"
    }
   ],
   "source": [
    "from sympy import*\n",
    "\n",
    "dots = Matrix([0,0,.5/(4*pi)])\n",
    "omega_1,omega_2,omega_3,theta,t = symbols('omega_1,omega_2,omega_3,theta,t')\n",
    "psi = .5/(4*pi)*t\n",
    "w = Matrix([omega_1,omega_2,omega_3])\n",
    "M = Matrix([[0,sin(psi),cos(psi)],\n",
    "            [0,cos(theta)*cos(psi),-cos(theta)*sin(psi)],\n",
    "            [cos(theta),sin(theta)*sin(psi),sin(theta)*cos(psi)]])\n",
    "eq1 = Eq(dots,1/cos(theta)*M@w)\n",
    "solve(eq1)[0]"
   ]
  },
  {
   "cell_type": "code",
   "execution_count": 25,
   "id": "afea4d29-43a2-425a-b698-67fbf6b6ba5b",
   "metadata": {},
   "outputs": [
    {
     "data": {
      "text/latex": [
       "$\\displaystyle \\left[\\begin{matrix}\\frac{\\omega_{2} \\sin{\\left(\\frac{0.125 t}{\\pi} \\right)}}{\\cos{\\left(\\theta \\right)}} + \\frac{\\omega_{3} \\cos{\\left(\\frac{0.125 t}{\\pi} \\right)}}{\\cos{\\left(\\theta \\right)}}\\\\\\omega_{2} \\cos{\\left(\\frac{0.125 t}{\\pi} \\right)} - \\omega_{3} \\sin{\\left(\\frac{0.125 t}{\\pi} \\right)}\\\\\\omega_{1} + \\frac{\\omega_{2} \\sin{\\left(\\theta \\right)} \\sin{\\left(\\frac{0.125 t}{\\pi} \\right)}}{\\cos{\\left(\\theta \\right)}} + \\frac{\\omega_{3} \\sin{\\left(\\theta \\right)} \\cos{\\left(\\frac{0.125 t}{\\pi} \\right)}}{\\cos{\\left(\\theta \\right)}}\\end{matrix}\\right]$"
      ],
      "text/plain": [
       "Matrix([\n",
       "[                                omega_2*sin(0.125*t/pi)/cos(theta) + omega_3*cos(0.125*t/pi)/cos(theta)],\n",
       "[                                                      omega_2*cos(0.125*t/pi) - omega_3*sin(0.125*t/pi)],\n",
       "[omega_1 + omega_2*sin(theta)*sin(0.125*t/pi)/cos(theta) + omega_3*sin(theta)*cos(0.125*t/pi)/cos(theta)]])"
      ]
     },
     "execution_count": 25,
     "metadata": {},
     "output_type": "execute_result"
    }
   ],
   "source": [
    "1/cos(theta)*M@w"
   ]
  },
  {
   "cell_type": "code",
   "execution_count": null,
   "id": "e1a4c878-c695-4e6f-ba1e-1274a7214c0d",
   "metadata": {},
   "outputs": [],
   "source": []
  }
 ],
 "metadata": {
  "kernelspec": {
   "display_name": "Python 3 (ipykernel)",
   "language": "python",
   "name": "python3"
  },
  "language_info": {
   "codemirror_mode": {
    "name": "ipython",
    "version": 3
   },
   "file_extension": ".py",
   "mimetype": "text/x-python",
   "name": "python",
   "nbconvert_exporter": "python",
   "pygments_lexer": "ipython3",
   "version": "3.12.4"
  }
 },
 "nbformat": 4,
 "nbformat_minor": 5
}
